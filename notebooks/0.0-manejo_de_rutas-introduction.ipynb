{
 "cells": [
  {
   "cell_type": "markdown",
   "metadata": {},
   "source": [
    "# manejo de paths en python\n",
    "**Hacer que llegemos a la carpeta /data/raw**"
   ]
  },
  {
   "cell_type": "code",
   "execution_count": 6,
   "metadata": {},
   "outputs": [],
   "source": [
    "import os "
   ]
  },
  {
   "cell_type": "code",
   "execution_count": 10,
   "metadata": {},
   "outputs": [],
   "source": [
    "CURRENT_DIR =  os.getcwd() # otiene el directorio actual\n",
    "DATA_DIR = os.path.join(CURRENT_DIR, os.pardir, \"data\", \"raw\") # sube un nivel en el directorio actual y se une con la carpeta data\n",
    "#os.path.join es para unir directorios\n",
    "#os.pardir es para subir un nivel en el directorio\n",
    "#os.getcwd() es para obtener el directorio actual\n",
    "#\"data\" es el directorio que se quiere unir con el directorio actual\n",
    "#\"raw\" es el directorio que se quiere unir con el directorio \"data\"\n",
    "\n"
   ]
  },
  {
   "cell_type": "code",
   "execution_count": 12,
   "metadata": {},
   "outputs": [
    {
     "data": {
      "text/plain": [
       "True"
      ]
     },
     "execution_count": 12,
     "metadata": {},
     "output_type": "execute_result"
    }
   ],
   "source": [
    "#como verificamos que todo esta funcionando?\n",
    "\n",
    "os.path.exists(DATA_DIR) #verifica si existe el directorio DATA_DIR\n",
    "#si devuelve True, entonces si existe el directorio\n",
    "#si devuelve False, entonces no existe el directorio\n",
    "os.path.isdir(DATA_DIR) #verifica si DATA_DIR es un directorio\n",
    "#si devuelve True, entonces si es un directorio"
   ]
  },
  {
   "cell_type": "code",
   "execution_count": 13,
   "metadata": {},
   "outputs": [
    {
     "data": {
      "text/plain": [
       "['/mnt/c/Users/gmr_g/Documents/Academico/Platzi Cursos/Gabz/Curso de configuracion Profecional de entorno de trabajo para ciencia de datos/manejo_de_rutas/notebooks/../data/raw/.gitkeep']"
      ]
     },
     "execution_count": 13,
     "metadata": {},
     "output_type": "execute_result"
    }
   ],
   "source": [
    "#como iterar en un directo[]\n",
    "[os.path.join(DATA_DIR, item) for item in os.listdir(DATA_DIR)] #itera en el directorio DATA_DIR y une cada archivo con el directorio DATA_DIR\n"
   ]
  },
  {
   "cell_type": "code",
   "execution_count": 14,
   "metadata": {},
   "outputs": [],
   "source": [
    "#Crear nuevas carpetas\n",
    "os.makedirs(os.path.join(CURRENT_DIR, os.pardir, \"data\", \"os\"), exist_ok=True) #crea la carpeta processed en el directorio data\n",
    "#os.makedirs es para crear directorios\n",
    "#os.path.join es para unir directorios\n",
    "#os.pardir es para subir un nivel en el directorio\n",
    "#os.getcwd() es para obtener el directorio actual\n",
    "#\"data\" es el directorio que se quiere unir con el directorio actual\n",
    "#\"os\" es el directorio que se quiere unir con el directorio \"data\"\n",
    "#exist_ok=True es para que no se genere un error si la carpeta ya existe\n"
   ]
  },
  {
   "cell_type": "markdown",
   "metadata": {},
   "source": [
    "# pathlib"
   ]
  },
  {
   "cell_type": "code",
   "execution_count": 15,
   "metadata": {},
   "outputs": [],
   "source": [
    "import pathlib"
   ]
  },
  {
   "cell_type": "code",
   "execution_count": 7,
   "metadata": {},
   "outputs": [
    {
     "data": {
      "text/plain": [
       "True"
      ]
     },
     "execution_count": 7,
     "metadata": {},
     "output_type": "execute_result"
    }
   ],
   "source": [
    "CURRENT_DIR = pathlib.Path().resolve() #obtiene el directorio actual\n",
    "#resolve() es para obtener la ruta absoluta del directorio actual\n",
    "DATA_DIR = CURRENT_DIR.parent.joinpath(\"data\", \"raw\") #obtiene el directorio padre del directorio actual\n",
    "#joinpath es para unir directorios\n",
    "#\"data\" es el directorio que se quiere unir con el directorio padre del directorio actual\n",
    "#\"raw\" es el directorio que se quiere unir con el directorio \"data\"ArithmeticError\n",
    "\n",
    "CURRENT_DIR.is_dir() #verifica si el directorio actual es un directorio"
   ]
  },
  {
   "cell_type": "code",
   "execution_count": 8,
   "metadata": {},
   "outputs": [],
   "source": [
    "DATA_DIR.joinpath(\"pathlib\").mkdir() #une el directorio DATA_DIR con el directorio \"os\""
   ]
  },
  {
   "cell_type": "code",
   "execution_count": 10,
   "metadata": {},
   "outputs": [
    {
     "data": {
      "text/plain": [
       "[PosixPath('/mnt/c/Users/gmr_g/Documents/Academico/Platzi Cursos/Gabz/Curso de configuracion Profecional de entorno de trabajo para ciencia de datos/manejo_de_rutas/data/raw/.gitkeep'),\n",
       " PosixPath('/mnt/c/Users/gmr_g/Documents/Academico/Platzi Cursos/Gabz/Curso de configuracion Profecional de entorno de trabajo para ciencia de datos/manejo_de_rutas/data/raw/pathlib')]"
      ]
     },
     "execution_count": 10,
     "metadata": {},
     "output_type": "execute_result"
    }
   ],
   "source": [
    "#si quiero listar los elementos de un directorio\n",
    "list(DATA_DIR.glob(\"*\")) \n",
    "#list es para convertir el resultado en una lista\n",
    "#glob es para listar los elementos de un directorio\n",
    "#\"*\" es para listar todos los elementos del directorio\n"
   ]
  },
  {
   "cell_type": "code",
   "execution_count": 11,
   "metadata": {},
   "outputs": [
    {
     "data": {
      "text/plain": [
       "[PosixPath('/mnt/c/Users/gmr_g/Documents/Academico/Platzi Cursos/Gabz/Curso de configuracion Profecional de entorno de trabajo para ciencia de datos/manejo_de_rutas/data/raw/.gitkeep')]"
      ]
     },
     "execution_count": 11,
     "metadata": {},
     "output_type": "execute_result"
    }
   ],
   "source": [
    "list(DATA_DIR.glob(\".git*\")) \n",
    "#list es para convertir el resultado en una lista\n",
    "#glob es para listar los elementos de un directorio\n",
    "#\".git*\" es para listar los elementos que empiecen con \".git\"\n"
   ]
  },
  {
   "cell_type": "markdown",
   "metadata": {},
   "source": [
    "# pyfilesitem o fs"
   ]
  },
  {
   "cell_type": "code",
   "execution_count": 12,
   "metadata": {},
   "outputs": [],
   "source": [
    "import fs   "
   ]
  },
  {
   "cell_type": "code",
   "execution_count": 16,
   "metadata": {},
   "outputs": [
    {
     "data": {
      "text/plain": [
       "True"
      ]
     },
     "execution_count": 16,
     "metadata": {},
     "output_type": "execute_result"
    }
   ],
   "source": [
    "CURRENT_DIR = fs.open_fs(\".\") #abre el sistema de archivos actual\n",
    "CURRENT_DIR.exists(\".\") #verifica si existe la carpeta data en el directorio actual"
   ]
  },
  {
   "cell_type": "code",
   "execution_count": 22,
   "metadata": {},
   "outputs": [],
   "source": [
    "import fs\n",
    "\n",
    "# Abre el sistema de archivos actual\n",
    "CURRENT_DIR = fs.open_fs(\".\")\n",
    "\n",
    "# Verifica si existe la carpeta 'data' en el directorio actual\n",
    "if not CURRENT_DIR.exists(\"data\"):\n",
    "    # Crea la carpeta 'data' si no existe\n",
    "    CURRENT_DIR.makedir(\"data\")\n",
    "\n",
    "# Verifica si existe la carpeta 'pathlib' en el directorio actual\n",
    "if not CURRENT_DIR.exists(\"pathlib\"):\n",
    "    # Crea la carpeta 'pathlib' si no existe\n",
    "    CURRENT_DIR.makedir(\"pathlib\")"
   ]
  },
  {
   "cell_type": "code",
   "execution_count": 30,
   "metadata": {},
   "outputs": [
    {
     "name": "stdout",
     "output_type": "stream",
     "text": [
      "/.gitkeep\n",
      "[]\n",
      "/pathlib/.gitkeep\n",
      "[]\n"
     ]
    }
   ],
   "source": [
    "\n",
    "import fs\n",
    "\n",
    "# Abre el sistema de archivos\n",
    "DATA_DIR = fs.open_fs(\"../data/raw\")\n",
    "# open_fs es para abrir un sistema de archivos\n",
    "# ../data/raw es el directorio que se quiere abrir\n",
    "\n",
    "# Itera en el directorio DATA_DIR y lista los archivos que terminen en \".csv\"\n",
    "for path in DATA_DIR.walk.files():\n",
    "    print(path)  # Imprime los archivos que terminen en \".csv\"\n",
    "    with DATA_DIR.open(path) as data_file:\n",
    "        print(data_file.readlines()) # Imprime el contenido de los archivos que terminen en \".csv\"\n",
    "# walk.files es para listar los archivos de un directorio\n",
    "# open es para abrir un archivo\n",
    "# readlines es para leer las lineas de un archivo\n",
    "# DATA_DIR es el directorio que se quiere\n",
    "# path es el archivo que se quiere abrir\n"
   ]
  },
  {
   "cell_type": "code",
   "execution_count": 31,
   "metadata": {},
   "outputs": [
    {
     "data": {
      "text/plain": [
       "SubFS(OSFS('/mnt/c/Users/gmr_g/Documents/Academico/Platzi Cursos/Gabz/Curso de configuracion Profecional de entorno de trabajo para ciencia de datos/manejo_de_rutas/data/raw'), '/external_fs')"
      ]
     },
     "execution_count": 31,
     "metadata": {},
     "output_type": "execute_result"
    }
   ],
   "source": [
    "#crear carpetas\n",
    "import fs\n",
    "\n",
    "DATA_DIR.makedir(\"external_fs\", recreate=True) \n",
    "#makedir es para crear una carpeta\n",
    "#\"external_fs\" es el nombre de la carpeta que se quiere crear\n",
    "#recreate=True es para que si la carpeta ya existe, la vuelva a crear"
   ]
  },
  {
   "cell_type": "markdown",
   "metadata": {},
   "source": [
    "# Crear referencias delativas\n",
    "**vamos a decirle donde inicia nuestro proyecto y donde termina para definir bien las rutas**"
   ]
  },
  {
   "cell_type": "code",
   "execution_count": 32,
   "metadata": {},
   "outputs": [],
   "source": [
    "import pyprojroot\n",
    "#pyprojroot es una libreria para obtener la ruta del directorio raiz del proyecto\n"
   ]
  },
  {
   "cell_type": "code",
   "execution_count": 34,
   "metadata": {},
   "outputs": [
    {
     "data": {
      "text/plain": [
       "PosixPath('/mnt/c/Users/gmr_g/Documents/Academico/Platzi Cursos/Gabz/Curso de configuracion Profecional de entorno de trabajo para ciencia de datos/manejo_de_rutas/data/raw')"
      ]
     },
     "execution_count": 34,
     "metadata": {},
     "output_type": "execute_result"
    }
   ],
   "source": [
    "pyprojroot.here(\"data\").joinpath(\"raw\") #obtiene la ruta del directorio raiz del proyecto\n",
    "#joinpath es para unir directorios\n",
    "#\"data\" es el directorio que se quiere unir con el directorio raiz del proyecto\n",
    "#\"raw\" es el directorio que se quiere unir con el directorio \"data\"\n"
   ]
  },
  {
   "cell_type": "code",
   "execution_count": 35,
   "metadata": {},
   "outputs": [],
   "source": [
    "import pyhere\n",
    "#pyhere es una libreria para obtener la ruta del directorio actual\n"
   ]
  },
  {
   "cell_type": "code",
   "execution_count": 38,
   "metadata": {},
   "outputs": [
    {
     "data": {
      "text/plain": [
       "PosixPath('/mnt/c/Users/gmr_g/Documents/Academico/Platzi Cursos/Gabz/Curso de configuracion Profecional de entorno de trabajo para ciencia de datos/manejo_de_rutas/data/raw')"
      ]
     },
     "execution_count": 38,
     "metadata": {},
     "output_type": "execute_result"
    }
   ],
   "source": [
    "pyhere.here().resolve() / \"data\" /\"raw\" #obtiene la ruta del directorio actual\n",
    "#resolve() es para obtener la ruta absoluta del directorio actual\n",
    "#/ es para unir directorios\n",
    "#\"data\" es el directorio que se quiere unir con el directorio actual\n",
    "#\"raw\" es el directorio que se quiere unir con el directorio \"data\"\n",
    "#pyhere.here() es para obtener la ruta del directorio actual\n",
    "#pyhere.here().resolve() es para obtener la ruta absoluta del directorio actual"
   ]
  },
  {
   "cell_type": "markdown",
   "metadata": {},
   "source": [
    "## Crea custom shorcuts\n",
    "\n"
   ]
  },
  {
   "cell_type": "code",
   "execution_count": 48,
   "metadata": {},
   "outputs": [],
   "source": [
    "def make_dir_funtion(dir_name):\n",
    "    \n",
    "    def dir_funtion(*args):\n",
    "        return pyprojroot.here().joinpath(dir_name, *args)\n",
    "    \n",
    "    return dir_funtion\n",
    "\n",
    "#make_dir_funtion es una funcion que recibe un nombre de directorio\n",
    "#dir_funtion es una funcion que retorna la ruta del directorio actual\n",
    "#pyprojroot.here() es para obtener la ruta del directorio raiz del proyecto\n",
    "#joinpath es para unir directorios\n",
    "#dir_name es el nombre del directorio que se quiere unir con el directorio raiz del proyecto\n",
    "#*args es para recibir argumentos variables\n",
    "#return dir_funtion es para retornar la ruta del directorio actual\n",
    "#return pyprojroot.here().joinpath(dir_name, *args) es para retornar la ruta del directorio actual unido con el nombre del directorio y los argumentos variables"
   ]
  },
  {
   "cell_type": "code",
   "execution_count": 49,
   "metadata": {},
   "outputs": [],
   "source": [
    "data_dir = make_dir_funtion(\"data\")"
   ]
  },
  {
   "cell_type": "code",
   "execution_count": 52,
   "metadata": {},
   "outputs": [
    {
     "data": {
      "text/plain": [
       "<function __main__.make_dir_funtion.<locals>.dir_funtion(*args)>"
      ]
     },
     "execution_count": 52,
     "metadata": {},
     "output_type": "execute_result"
    }
   ],
   "source": [
    "data_dir(\"data\", \"raw\") #retorna la ruta del directorio actual unido con el nombre del directorio y los argumentos variables\n",
    "notebooks_dir = make_dir_funtion(\"notebooks\")\n",
    "\n"
   ]
  }
 ],
 "metadata": {
  "kernelspec": {
   "display_name": "Python (final_project)",
   "language": "python",
   "name": "final_project"
  },
  "language_info": {
   "codemirror_mode": {
    "name": "ipython",
    "version": 3
   },
   "file_extension": ".py",
   "mimetype": "text/x-python",
   "name": "python",
   "nbconvert_exporter": "python",
   "pygments_lexer": "ipython3",
   "version": "3.9.19"
  }
 },
 "nbformat": 4,
 "nbformat_minor": 2
}
